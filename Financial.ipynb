{
 "cells": [
  {
   "cell_type": "code",
   "execution_count": 12,
   "metadata": {},
   "outputs": [
    {
     "data": {
      "text/html": [
       "<div>\n",
       "<style>\n",
       "    .dataframe thead tr:only-child th {\n",
       "        text-align: right;\n",
       "    }\n",
       "\n",
       "    .dataframe thead th {\n",
       "        text-align: left;\n",
       "    }\n",
       "\n",
       "    .dataframe tbody tr th {\n",
       "        vertical-align: top;\n",
       "    }\n",
       "</style>\n",
       "<table border=\"1\" class=\"dataframe\">\n",
       "  <thead>\n",
       "    <tr style=\"text-align: right;\">\n",
       "      <th></th>\n",
       "      <th>2015</th>\n",
       "      <th>2016</th>\n",
       "      <th>2017</th>\n",
       "      <th>2018</th>\n",
       "      <th>2019</th>\n",
       "    </tr>\n",
       "  </thead>\n",
       "  <tbody>\n",
       "    <tr>\n",
       "      <th>Revenue</th>\n",
       "      <td>5</td>\n",
       "      <td>6.0</td>\n",
       "      <td>8.0</td>\n",
       "      <td>10</td>\n",
       "      <td>13</td>\n",
       "    </tr>\n",
       "    <tr>\n",
       "      <th>Expenses</th>\n",
       "      <td>4</td>\n",
       "      <td>4.8</td>\n",
       "      <td>6.1</td>\n",
       "      <td>8</td>\n",
       "      <td>10</td>\n",
       "    </tr>\n",
       "    <tr>\n",
       "      <th>Profit</th>\n",
       "      <td>1</td>\n",
       "      <td>1.2</td>\n",
       "      <td>1.9</td>\n",
       "      <td>2</td>\n",
       "      <td>3</td>\n",
       "    </tr>\n",
       "  </tbody>\n",
       "</table>\n",
       "</div>"
      ],
      "text/plain": [
       "          2015  2016  2017  2018  2019\n",
       "Revenue      5   6.0   8.0    10    13\n",
       "Expenses     4   4.8   6.1     8    10\n",
       "Profit       1   1.2   1.9     2     3"
      ]
     },
     "execution_count": 12,
     "metadata": {},
     "output_type": "execute_result"
    }
   ],
   "source": [
    "import pandas as pd \n",
    "import numpy as np\n",
    "\n",
    "# initialize dataframe for revenue, expenses, and profit for years 2015 to 2019\n",
    "dat = [{'2015': 5, '2016':6, '2017':8, '2018':10, '2019':13}, \n",
    "       {'2015': 4, '2016':4.8, '2017':6.1, '2018':8, '2019':10},\n",
    "       {'2015': 1, '2016':1.2, '2017':1.9, '2018':2, '2019':3},] \n",
    "\n",
    "df = pd.DataFrame(dat, index =['Revenue', 'Expenses', 'Profit']) \n",
    "df "
   ]
  },
  {
   "cell_type": "code",
   "execution_count": 13,
   "metadata": {},
   "outputs": [
    {
     "data": {
      "text/html": [
       "<div>\n",
       "<style>\n",
       "    .dataframe thead tr:only-child th {\n",
       "        text-align: right;\n",
       "    }\n",
       "\n",
       "    .dataframe thead th {\n",
       "        text-align: left;\n",
       "    }\n",
       "\n",
       "    .dataframe tbody tr th {\n",
       "        vertical-align: top;\n",
       "    }\n",
       "</style>\n",
       "<table border=\"1\" class=\"dataframe\">\n",
       "  <thead>\n",
       "    <tr style=\"text-align: right;\">\n",
       "      <th></th>\n",
       "      <th>2015</th>\n",
       "      <th>2016</th>\n",
       "      <th>2017</th>\n",
       "      <th>2018</th>\n",
       "      <th>2019</th>\n",
       "      <th>YoY Growth</th>\n",
       "    </tr>\n",
       "  </thead>\n",
       "  <tbody>\n",
       "    <tr>\n",
       "      <th>Revenue</th>\n",
       "      <td>5</td>\n",
       "      <td>6.0</td>\n",
       "      <td>8.0</td>\n",
       "      <td>10</td>\n",
       "      <td>13</td>\n",
       "      <td>30.0</td>\n",
       "    </tr>\n",
       "    <tr>\n",
       "      <th>Expenses</th>\n",
       "      <td>4</td>\n",
       "      <td>4.8</td>\n",
       "      <td>6.1</td>\n",
       "      <td>8</td>\n",
       "      <td>10</td>\n",
       "      <td>25.0</td>\n",
       "    </tr>\n",
       "    <tr>\n",
       "      <th>Profit</th>\n",
       "      <td>1</td>\n",
       "      <td>1.2</td>\n",
       "      <td>1.9</td>\n",
       "      <td>2</td>\n",
       "      <td>3</td>\n",
       "      <td>50.0</td>\n",
       "    </tr>\n",
       "  </tbody>\n",
       "</table>\n",
       "</div>"
      ],
      "text/plain": [
       "          2015  2016  2017  2018  2019  YoY Growth\n",
       "Revenue      5   6.0   8.0    10    13        30.0\n",
       "Expenses     4   4.8   6.1     8    10        25.0\n",
       "Profit       1   1.2   1.9     2     3        50.0"
      ]
     },
     "execution_count": 13,
     "metadata": {},
     "output_type": "execute_result"
    }
   ],
   "source": [
    "# calculate year over year growth rate for 2018-2019\n",
    "df['YoY Growth'] = ((df['2019'] - df['2018'])/df['2018'])*100\n",
    "df"
   ]
  },
  {
   "cell_type": "code",
   "execution_count": 14,
   "metadata": {},
   "outputs": [
    {
     "data": {
      "text/html": [
       "<div>\n",
       "<style>\n",
       "    .dataframe thead tr:only-child th {\n",
       "        text-align: right;\n",
       "    }\n",
       "\n",
       "    .dataframe thead th {\n",
       "        text-align: left;\n",
       "    }\n",
       "\n",
       "    .dataframe tbody tr th {\n",
       "        vertical-align: top;\n",
       "    }\n",
       "</style>\n",
       "<table border=\"1\" class=\"dataframe\">\n",
       "  <thead>\n",
       "    <tr style=\"text-align: right;\">\n",
       "      <th></th>\n",
       "      <th>2015</th>\n",
       "      <th>2016</th>\n",
       "      <th>2017</th>\n",
       "      <th>2018</th>\n",
       "      <th>2019</th>\n",
       "      <th>YoY Growth</th>\n",
       "      <th>CAGR</th>\n",
       "    </tr>\n",
       "  </thead>\n",
       "  <tbody>\n",
       "    <tr>\n",
       "      <th>Revenue</th>\n",
       "      <td>5</td>\n",
       "      <td>6.0</td>\n",
       "      <td>8.0</td>\n",
       "      <td>10</td>\n",
       "      <td>13</td>\n",
       "      <td>30.0</td>\n",
       "      <td>26.982343</td>\n",
       "    </tr>\n",
       "    <tr>\n",
       "      <th>Expenses</th>\n",
       "      <td>4</td>\n",
       "      <td>4.8</td>\n",
       "      <td>6.1</td>\n",
       "      <td>8</td>\n",
       "      <td>10</td>\n",
       "      <td>25.0</td>\n",
       "      <td>25.743343</td>\n",
       "    </tr>\n",
       "    <tr>\n",
       "      <th>Profit</th>\n",
       "      <td>1</td>\n",
       "      <td>1.2</td>\n",
       "      <td>1.9</td>\n",
       "      <td>2</td>\n",
       "      <td>3</td>\n",
       "      <td>50.0</td>\n",
       "      <td>31.607401</td>\n",
       "    </tr>\n",
       "  </tbody>\n",
       "</table>\n",
       "</div>"
      ],
      "text/plain": [
       "          2015  2016  2017  2018  2019  YoY Growth       CAGR\n",
       "Revenue      5   6.0   8.0    10    13        30.0  26.982343\n",
       "Expenses     4   4.8   6.1     8    10        25.0  25.743343\n",
       "Profit       1   1.2   1.9     2     3        50.0  31.607401"
      ]
     },
     "execution_count": 14,
     "metadata": {},
     "output_type": "execute_result"
    }
   ],
   "source": [
    "# calculate compounded annual growth rate (CAGR) for 2015-2019\n",
    "df['CAGR'] = ((df['2019']/df['2015'])**(1/4.0)-1)*100\n",
    "df"
   ]
  },
  {
   "cell_type": "code",
   "execution_count": 15,
   "metadata": {},
   "outputs": [
    {
     "data": {
      "text/html": [
       "<div>\n",
       "<style>\n",
       "    .dataframe thead tr:only-child th {\n",
       "        text-align: right;\n",
       "    }\n",
       "\n",
       "    .dataframe thead th {\n",
       "        text-align: left;\n",
       "    }\n",
       "\n",
       "    .dataframe tbody tr th {\n",
       "        vertical-align: top;\n",
       "    }\n",
       "</style>\n",
       "<table border=\"1\" class=\"dataframe\">\n",
       "  <thead>\n",
       "    <tr style=\"text-align: right;\">\n",
       "      <th></th>\n",
       "      <th>2015</th>\n",
       "      <th>2016</th>\n",
       "      <th>2017</th>\n",
       "      <th>2018</th>\n",
       "      <th>2019</th>\n",
       "      <th>YoY Growth</th>\n",
       "      <th>CAGR</th>\n",
       "      <th>Projection_3year</th>\n",
       "    </tr>\n",
       "  </thead>\n",
       "  <tbody>\n",
       "    <tr>\n",
       "      <th>Revenue</th>\n",
       "      <td>5</td>\n",
       "      <td>6.0</td>\n",
       "      <td>8.0</td>\n",
       "      <td>10</td>\n",
       "      <td>13</td>\n",
       "      <td>30.0</td>\n",
       "      <td>26.982343</td>\n",
       "      <td>42.920032</td>\n",
       "    </tr>\n",
       "    <tr>\n",
       "      <th>Expenses</th>\n",
       "      <td>4</td>\n",
       "      <td>4.8</td>\n",
       "      <td>6.1</td>\n",
       "      <td>8</td>\n",
       "      <td>10</td>\n",
       "      <td>25.0</td>\n",
       "      <td>25.743343</td>\n",
       "      <td>31.435836</td>\n",
       "    </tr>\n",
       "    <tr>\n",
       "      <th>Profit</th>\n",
       "      <td>1</td>\n",
       "      <td>1.2</td>\n",
       "      <td>1.9</td>\n",
       "      <td>2</td>\n",
       "      <td>3</td>\n",
       "      <td>50.0</td>\n",
       "      <td>31.607401</td>\n",
       "      <td>11.844666</td>\n",
       "    </tr>\n",
       "  </tbody>\n",
       "</table>\n",
       "</div>"
      ],
      "text/plain": [
       "          2015  2016  2017  2018  2019  YoY Growth       CAGR  \\\n",
       "Revenue      5   6.0   8.0    10    13        30.0  26.982343   \n",
       "Expenses     4   4.8   6.1     8    10        25.0  25.743343   \n",
       "Profit       1   1.2   1.9     2     3        50.0  31.607401   \n",
       "\n",
       "          Projection_3year  \n",
       "Revenue          42.920032  \n",
       "Expenses         31.435836  \n",
       "Profit           11.844666  "
      ]
     },
     "execution_count": 15,
     "metadata": {},
     "output_type": "execute_result"
    }
   ],
   "source": [
    "# financial projection of CAGR for the next three years\n",
    "df['Projection_3year'] = df['2019']*(1+(df['CAGR']/100))**(5)\n",
    "df"
   ]
  },
  {
   "cell_type": "code",
   "execution_count": 16,
   "metadata": {},
   "outputs": [
    {
     "data": {
      "text/plain": [
       "115.92740743"
      ]
     },
     "execution_count": 16,
     "metadata": {},
     "output_type": "execute_result"
    }
   ],
   "source": [
    "# calculate the time value of money\n",
    "# rate: The rate of return.\n",
    "# nper: The number of periods for the investment.\n",
    "# pmt: The fixed payment at the start or end of each period.\n",
    "# pv: The present value of the investment.\n",
    "np.fv(rate=0.03, nper=5, pmt=0, pv=-100)"
   ]
  },
  {
   "cell_type": "code",
   "execution_count": 17,
   "metadata": {},
   "outputs": [
    {
     "name": "stdout",
     "output_type": "stream",
     "text": [
      "7648.76260406\n",
      "7880.05512107\n"
     ]
    }
   ],
   "source": [
    "# calculate the net present value (NPV)\n",
    "# NPV is the difference between PV of cash inflows and PV of cash outflows over a period of time\n",
    "\n",
    "# Project 1\n",
    "# -$1000 in year 1, $1000 in year 2, $2000 in year 3, $3000 in year 4, $4000 in year 5\n",
    "# Project 2\n",
    "# $1000 in year 1, $2000 in year 2, -$1000 in year 3, $3000 in year 4, $4000 in year 5\n",
    "\n",
    "# Project 1 NPV\n",
    "print(np.npv(rate=0.05, values=np.array([-1000, 1000, 2000, 3000, 4000])))\n",
    "# Project 2 NPV\n",
    "print(np.npv(rate=0.05, values=np.array([1000, 2000, -1000, 3000, 4000])))\n",
    "\n",
    "# Absolute project value for each project is $9000, but time value of money varies\n",
    "# NPV is higher for Project 2, so it is the best choice"
   ]
  },
  {
   "cell_type": "code",
   "execution_count": 18,
   "metadata": {},
   "outputs": [
    {
     "name": "stdout",
     "output_type": "stream",
     "text": [
      "1.517996077869768\n",
      "nan\n"
     ]
    }
   ],
   "source": [
    "# calculate the internal rate of return (IRR)\n",
    "# IRR is the rate of return at which the NPV of cash flows becomes equal to zero\n",
    "\n",
    "# Project 1 IRR\n",
    "print(np.irr(np.array([-1000, 1000, 2000, 3000, 4000])))\n",
    "# Project 2 IRR\n",
    "print(np.irr(np.array([1000, 2000, -1000, 3000, 4000])))\n",
    "\n",
    "# The second project has no IRR because there is no cash outflow in the first year\n",
    "# With this method, the project with the highest IRR is the best choice"
   ]
  },
  {
   "cell_type": "code",
   "execution_count": 19,
   "metadata": {},
   "outputs": [
    {
     "data": {
      "text/plain": [
       "0.118"
      ]
     },
     "execution_count": 19,
     "metadata": {},
     "output_type": "execute_result"
    }
   ],
   "source": [
    "# If IRR is less than cost of capital, then the project is a bad investment\n",
    "# calculate the weighted average cost of capital (WACC)\n",
    "\n",
    "# The percentage of a company's financing via equity.\n",
    "equity_proportion = 0.60\n",
    "# The cost of equity for the company.\n",
    "equity_cost = 0.15\n",
    "# The percentage of a company's financing via debt.\n",
    "debt_proportion = 0.40\n",
    "# The cost of debt for the company.\n",
    "debt_cost = 0.10\n",
    "# taxrate: The corporate tax rate.\n",
    "taxrate = 0.30\n",
    "\n",
    "WACC = (equity_proportion*equity_cost) + (debt_proportion*debt_cost) * (1-taxrate)\n",
    "WACC"
   ]
  }
 ],
 "metadata": {
  "kernelspec": {
   "display_name": "Python 3",
   "language": "python",
   "name": "python3"
  },
  "language_info": {
   "codemirror_mode": {
    "name": "ipython",
    "version": 3
   },
   "file_extension": ".py",
   "mimetype": "text/x-python",
   "name": "python",
   "nbconvert_exporter": "python",
   "pygments_lexer": "ipython3",
   "version": "3.6.1"
  }
 },
 "nbformat": 4,
 "nbformat_minor": 2
}
