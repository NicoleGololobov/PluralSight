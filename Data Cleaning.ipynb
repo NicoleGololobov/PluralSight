{
 "cells": [
  {
   "cell_type": "code",
   "execution_count": 6,
   "metadata": {},
   "outputs": [
    {
     "name": "stdout",
     "output_type": "stream",
     "text": [
      "   Annual Income Statement Data      Unnamed: 1  Unnamed: 2  Unnamed: 3  \\\n",
      "0                           NaN  Actuals in M $         NaN         NaN   \n",
      "1        Fiscal Period December            2015        2016        2017   \n",
      "2                         Sales          20 455      21 378      26 243   \n",
      "3                        EBITDA           4 854       6 075       8 823   \n",
      "4       Operating profit (EBIT)           2 223       3 766       5 242   \n",
      "5          Pre-Tax Profit (EBT)          -5 454       2 624       5 505   \n",
      "6                    Net income          -5 624       1 594       3 166   \n",
      "7                     P/E ratio           -1,01        11,6        8,54   \n",
      "8                     EPS ( $ )           -4,36        1,23        2,45   \n",
      "9      Dividend per Share ( $ )            0,32           -        1,02   \n",
      "10                        Yield           7,25%           -       4,88%   \n",
      "11        Reference price ( $ )            4.41       14.32       20.92   \n",
      "12            Announcement Date      02/16/2016  02/21/2017  02/22/2018   \n",
      "13                          NaN         07:00am     08:01am     07:01am   \n",
      "\n",
      "          Unnamed: 4 Unnamed: 5 Unnamed: 6  \n",
      "0   Estimates in M $        NaN        NaN  \n",
      "1               2018       2019       2020  \n",
      "2             27 335     26 561     27 435  \n",
      "3              8 651      7 782      7 766  \n",
      "4              6 152      5 288      5 264  \n",
      "5              5 972      5 147      5 209  \n",
      "6              3 532      3 066      2 980  \n",
      "7               8,78       10,3       10,7  \n",
      "8               2,56       2,20       2,10  \n",
      "9               1,11       1,03       0,98  \n",
      "10             4,95%      4,59%      4,34%  \n",
      "11           22.5159    22.5159    22.5159  \n",
      "12                 -          -          -  \n",
      "13               NaN        NaN        NaN  \n"
     ]
    }
   ],
   "source": [
    "import pandas as pd\n",
    "from pandas import ExcelWriter\n",
    "import pandas.api.types as ptypes\n",
    "\n",
    "# read excel file into data object\n",
    "data = pd.ExcelFile('/Users/Nicole/Documents/Programs/PluralSight/Forecast-Anglo.xlsx')\n",
    "# call parse method for data\n",
    "df = data.parse(sheet_name='Sheet1')\n",
    "# print dataframe\n",
    "print(df)"
   ]
  },
  {
   "cell_type": "code",
   "execution_count": 7,
   "metadata": {},
   "outputs": [
    {
     "name": "stdout",
     "output_type": "stream",
     "text": [
      "[[2015 2016 2017 2018 2019 2020]\n",
      " ['20 455' '21 378' '26 243' '27 335' '26 561' '27 435']\n",
      " ['4 854' '6 075' '8 823' '8 651' '7 782' '7 766']\n",
      " ['2 223' '3 766' '5 242' '6 152' '5 288' '5 264']\n",
      " ['-5 454' '2 624' '5 505' '5 972' '5 147' '5 209']\n",
      " ['-5 624' '1 594' '3 166' '3 532' '3 066' '2 980']\n",
      " ['-1,01' '11,6' '8,54' '8,78' '10,3' '10,7']\n",
      " ['-4,36' '1,23' '2,45' '2,56' '2,20' '2,10']\n",
      " ['0,32' '-' '1,02' '1,11' '1,03' '0,98']\n",
      " ['7,25%' '-' '4,88%' '4,95%' '4,59%' '4,34%']\n",
      " [4.41 14.32 20.92 22.5159 22.5159 22.5159]]\n"
     ]
    }
   ],
   "source": [
    "# select rows and columns that have numbers\n",
    "ndf = df.iloc[1:12,1:]\n",
    "# print values in ndf\n",
    "print(ndf.values)"
   ]
  },
  {
   "cell_type": "code",
   "execution_count": 8,
   "metadata": {},
   "outputs": [
    {
     "name": "stdout",
     "output_type": "stream",
     "text": [
      "[[2015, 2016, 2017, 2018, 2019, 2020], [20455.0, 21378.0, 26243.0, 27335.0, 26561.0, 27435.0], [4854.0, 6075.0, 8823.0, 8651.0, 7782.0, 7766.0], [2223.0, 3766.0, 5242.0, 6152.0, 5288.0, 5264.0], [-5454.0, 2624.0, 5505.0, 5972.0, 5147.0, 5209.0], [-5624.0, 1594.0, 3166.0, 3532.0, 3066.0, 2980.0], [-1.01, 11.6, 8.54, 8.78, 10.3, 10.7], [-4.36, 1.23, 2.45, 2.56, 2.2, 2.1], [0.32, 0.0, 1.02, 1.11, 1.03, 0.98], [0.0725, 0.0, 0.048799999999999996, 0.0495, 0.045899999999999996, 0.0434], [4.41, 14.32, 20.92, 22.5159, 22.5159, 22.5159]]\n"
     ]
    }
   ],
   "source": [
    "# remove spaces within numbers\n",
    "# replace commas with decimal points\n",
    "# replace percentages with numbers\n",
    "# convert strings to numbers\n",
    "\n",
    "nvalues = []\n",
    "for row in ndf.values:\n",
    "    nrow = []\n",
    "    for itm in row:\n",
    "        if type(itm) == str:\n",
    "            itm = itm.replace(' ', '').replace(',', '.')\n",
    "            if len(itm) == 1 and '-' in itm:\n",
    "                itm = itm.replace('-', '0')\n",
    "            if '%' in itm:    \n",
    "                itm = float(itm.replace('%', '')) / 100\n",
    "            itm = float(itm)\n",
    "        nrow.append(itm)\n",
    "    nvalues.append(nrow)\n",
    "\n",
    "# print new values\n",
    "print(nvalues)"
   ]
  },
  {
   "cell_type": "code",
   "execution_count": 9,
   "metadata": {
    "collapsed": true
   },
   "outputs": [],
   "source": [
    "# save new values into same range from where original values were taken\n",
    "df.iloc[1:12,1:] = nvalues\n",
    "# assign new data into another Excel file\n",
    "writer = ExcelWriter('/Users/Nicole/Documents/Programs/PluralSight/Forecast-Anglo2.xlsx')\n",
    "df.to_excel(writer,'Sheet1', index=False)\n",
    "# save file\n",
    "writer.save()"
   ]
  }
 ],
 "metadata": {
  "kernelspec": {
   "display_name": "Python 3",
   "language": "python",
   "name": "python3"
  },
  "language_info": {
   "codemirror_mode": {
    "name": "ipython",
    "version": 3
   },
   "file_extension": ".py",
   "mimetype": "text/x-python",
   "name": "python",
   "nbconvert_exporter": "python",
   "pygments_lexer": "ipython3",
   "version": "3.6.1"
  }
 },
 "nbformat": 4,
 "nbformat_minor": 2
}
