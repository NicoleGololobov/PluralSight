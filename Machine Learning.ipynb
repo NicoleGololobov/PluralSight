{
 "cells": [
  {
   "cell_type": "code",
   "execution_count": 209,
   "metadata": {},
   "outputs": [
    {
     "data": {
      "text/html": [
       "<div>\n",
       "<style>\n",
       "    .dataframe thead tr:only-child th {\n",
       "        text-align: right;\n",
       "    }\n",
       "\n",
       "    .dataframe thead th {\n",
       "        text-align: left;\n",
       "    }\n",
       "\n",
       "    .dataframe tbody tr th {\n",
       "        vertical-align: top;\n",
       "    }\n",
       "</style>\n",
       "<table border=\"1\" class=\"dataframe\">\n",
       "  <thead>\n",
       "    <tr style=\"text-align: right;\">\n",
       "      <th></th>\n",
       "      <th>Home</th>\n",
       "      <th>Price</th>\n",
       "      <th>SqFt</th>\n",
       "      <th>Bedrooms</th>\n",
       "      <th>Bathrooms</th>\n",
       "      <th>Offers</th>\n",
       "      <th>Brick</th>\n",
       "      <th>Neighborhood</th>\n",
       "    </tr>\n",
       "  </thead>\n",
       "  <tbody>\n",
       "    <tr>\n",
       "      <th>123</th>\n",
       "      <td>124</td>\n",
       "      <td>119700</td>\n",
       "      <td>1900</td>\n",
       "      <td>3</td>\n",
       "      <td>3</td>\n",
       "      <td>3</td>\n",
       "      <td>Yes</td>\n",
       "      <td>East</td>\n",
       "    </tr>\n",
       "    <tr>\n",
       "      <th>124</th>\n",
       "      <td>125</td>\n",
       "      <td>147900</td>\n",
       "      <td>2160</td>\n",
       "      <td>4</td>\n",
       "      <td>3</td>\n",
       "      <td>3</td>\n",
       "      <td>Yes</td>\n",
       "      <td>East</td>\n",
       "    </tr>\n",
       "    <tr>\n",
       "      <th>125</th>\n",
       "      <td>126</td>\n",
       "      <td>113500</td>\n",
       "      <td>2070</td>\n",
       "      <td>2</td>\n",
       "      <td>2</td>\n",
       "      <td>2</td>\n",
       "      <td>No</td>\n",
       "      <td>North</td>\n",
       "    </tr>\n",
       "    <tr>\n",
       "      <th>126</th>\n",
       "      <td>127</td>\n",
       "      <td>149900</td>\n",
       "      <td>2020</td>\n",
       "      <td>3</td>\n",
       "      <td>3</td>\n",
       "      <td>1</td>\n",
       "      <td>No</td>\n",
       "      <td>West</td>\n",
       "    </tr>\n",
       "    <tr>\n",
       "      <th>127</th>\n",
       "      <td>128</td>\n",
       "      <td>124600</td>\n",
       "      <td>2250</td>\n",
       "      <td>3</td>\n",
       "      <td>3</td>\n",
       "      <td>4</td>\n",
       "      <td>No</td>\n",
       "      <td>North</td>\n",
       "    </tr>\n",
       "  </tbody>\n",
       "</table>\n",
       "</div>"
      ],
      "text/plain": [
       "     Home   Price  SqFt  Bedrooms  Bathrooms  Offers Brick Neighborhood\n",
       "123   124  119700  1900         3          3       3   Yes         East\n",
       "124   125  147900  2160         4          3       3   Yes         East\n",
       "125   126  113500  2070         2          2       2    No        North\n",
       "126   127  149900  2020         3          3       1    No         West\n",
       "127   128  124600  2250         3          3       4    No        North"
      ]
     },
     "execution_count": 209,
     "metadata": {},
     "output_type": "execute_result"
    }
   ],
   "source": [
    "# import libraries\n",
    "import pandas as pd\n",
    "import seaborn as sns\n",
    "import numpy as np\n",
    "import matplotlib.pyplot as plt\n",
    "%matplotlib inline\n",
    "\n",
    "house_data = pd.read_csv(\"/Users/Nicole/Documents/Programs/PluralSight/house-prices.csv\")\n",
    "house_data.tail()"
   ]
  },
  {
   "cell_type": "code",
   "execution_count": 210,
   "metadata": {},
   "outputs": [
    {
     "data": {
      "text/html": [
       "<div>\n",
       "<style>\n",
       "    .dataframe thead tr:only-child th {\n",
       "        text-align: right;\n",
       "    }\n",
       "\n",
       "    .dataframe thead th {\n",
       "        text-align: left;\n",
       "    }\n",
       "\n",
       "    .dataframe tbody tr th {\n",
       "        vertical-align: top;\n",
       "    }\n",
       "</style>\n",
       "<table border=\"1\" class=\"dataframe\">\n",
       "  <thead>\n",
       "    <tr style=\"text-align: right;\">\n",
       "      <th></th>\n",
       "      <th>Price</th>\n",
       "      <th>SqFt</th>\n",
       "      <th>Beds</th>\n",
       "      <th>Baths</th>\n",
       "      <th>Offers</th>\n",
       "      <th>Brick</th>\n",
       "      <th>Neighborhood</th>\n",
       "    </tr>\n",
       "  </thead>\n",
       "  <tbody>\n",
       "    <tr>\n",
       "      <th>123</th>\n",
       "      <td>119700</td>\n",
       "      <td>1900</td>\n",
       "      <td>3</td>\n",
       "      <td>3</td>\n",
       "      <td>3</td>\n",
       "      <td>1</td>\n",
       "      <td>East</td>\n",
       "    </tr>\n",
       "    <tr>\n",
       "      <th>124</th>\n",
       "      <td>147900</td>\n",
       "      <td>2160</td>\n",
       "      <td>4</td>\n",
       "      <td>3</td>\n",
       "      <td>3</td>\n",
       "      <td>1</td>\n",
       "      <td>East</td>\n",
       "    </tr>\n",
       "    <tr>\n",
       "      <th>125</th>\n",
       "      <td>113500</td>\n",
       "      <td>2070</td>\n",
       "      <td>2</td>\n",
       "      <td>2</td>\n",
       "      <td>2</td>\n",
       "      <td>0</td>\n",
       "      <td>North</td>\n",
       "    </tr>\n",
       "    <tr>\n",
       "      <th>126</th>\n",
       "      <td>149900</td>\n",
       "      <td>2020</td>\n",
       "      <td>3</td>\n",
       "      <td>3</td>\n",
       "      <td>1</td>\n",
       "      <td>0</td>\n",
       "      <td>West</td>\n",
       "    </tr>\n",
       "    <tr>\n",
       "      <th>127</th>\n",
       "      <td>124600</td>\n",
       "      <td>2250</td>\n",
       "      <td>3</td>\n",
       "      <td>3</td>\n",
       "      <td>4</td>\n",
       "      <td>0</td>\n",
       "      <td>North</td>\n",
       "    </tr>\n",
       "  </tbody>\n",
       "</table>\n",
       "</div>"
      ],
      "text/plain": [
       "      Price  SqFt  Beds  Baths  Offers  Brick Neighborhood\n",
       "123  119700  1900     3      3       3      1         East\n",
       "124  147900  2160     4      3       3      1         East\n",
       "125  113500  2070     2      2       2      0        North\n",
       "126  149900  2020     3      3       1      0         West\n",
       "127  124600  2250     3      3       4      0        North"
      ]
     },
     "execution_count": 210,
     "metadata": {},
     "output_type": "execute_result"
    }
   ],
   "source": [
    "# delete Home column since it is not needed for analysis\n",
    "del house_data['Home']\n",
    "\n",
    "# rename columns\n",
    "house_data = house_data.rename(columns={'Bedrooms': 'Beds', 'Bathrooms': 'Baths'})\n",
    "\n",
    "# change values in Brick column to integers for correlation analysis\n",
    "house_data.loc[:,\"Brick\"] = house_data.loc[:,\"Brick\"].apply(lambda x: 1 if x == 'Yes' else 0)\n",
    "house_data.tail()"
   ]
  },
  {
   "cell_type": "code",
   "execution_count": 211,
   "metadata": {},
   "outputs": [
    {
     "data": {
      "text/plain": [
       "False"
      ]
     },
     "execution_count": 211,
     "metadata": {},
     "output_type": "execute_result"
    }
   ],
   "source": [
    "# check if dataframe has any null values\n",
    "house_data.isnull().values.any()"
   ]
  },
  {
   "cell_type": "code",
   "execution_count": 212,
   "metadata": {},
   "outputs": [
    {
     "name": "stdout",
     "output_type": "stream",
     "text": [
      "[0, 0, 0, 0, 0, 0, 0, 0, 0, 0, 0, 0, 0, 0, 0, 0, 0, 0, 0, 0, 0, 0, 0, 0, 0, 0, 0, 0, 0, 0, 0, 0, 0, 0, 0, 0, 0, 0, 0, 0, 0, 0, 0, 0, 0, 0, 0, 0, 0, 0, 0, 0, 0, 0, 0, 0, 0, 0, 0, 0, 0, 0, 0, 0, 0, 0, 0, 0, 0, 0, 0, 0, 0, 0, 0, 0, 0, 0, 0, 0, 0, 0, 0, 0, 0, 0, 0, 0, 0, 0, 0, 0, 0, 0, 0, 0, 0, 0, 0, 0, 0, 0, 0, 0, 0, 0, 0, 0, 0, 0, 0, 0, 0, 0, 0, 0, 0, 0, 0, 0, 0, 0, 0, 0, 0, 0, 0, 0]\n"
     ]
    }
   ],
   "source": [
    "# make dummy variables for Neighborhood variable\n",
    "n_list = []\n",
    "s_list = []\n",
    "e_list = []\n",
    "w_list = []\n",
    "for x in house_data['Neighborhood']:\n",
    "    if x == \"North\":\n",
    "        n_list.append(1)\n",
    "        s_list.append(0)\n",
    "        e_list.append(0)\n",
    "        w_list.append(0)\n",
    "    elif x == \"South\":\n",
    "        n_list.append(0)\n",
    "        s_list.append(1)\n",
    "        e_list.append(0)\n",
    "        w_list.append(0)\n",
    "    elif x == \"East\":\n",
    "        n_list.append(0)\n",
    "        s_list.append(0)\n",
    "        e_list.append(1)\n",
    "        w_list.append(0)\n",
    "    else:\n",
    "        n_list.append(0)\n",
    "        s_list.append(0)\n",
    "        e_list.append(0)\n",
    "        w_list.append(1)\n",
    "print(s_list)"
   ]
  },
  {
   "cell_type": "code",
   "execution_count": 213,
   "metadata": {},
   "outputs": [
    {
     "data": {
      "text/html": [
       "<div>\n",
       "<style>\n",
       "    .dataframe thead tr:only-child th {\n",
       "        text-align: right;\n",
       "    }\n",
       "\n",
       "    .dataframe thead th {\n",
       "        text-align: left;\n",
       "    }\n",
       "\n",
       "    .dataframe tbody tr th {\n",
       "        vertical-align: top;\n",
       "    }\n",
       "</style>\n",
       "<table border=\"1\" class=\"dataframe\">\n",
       "  <thead>\n",
       "    <tr style=\"text-align: right;\">\n",
       "      <th></th>\n",
       "      <th>Price</th>\n",
       "      <th>SqFt</th>\n",
       "      <th>Beds</th>\n",
       "      <th>Baths</th>\n",
       "      <th>Offers</th>\n",
       "      <th>Brick</th>\n",
       "      <th>Neighborhood</th>\n",
       "      <th>North</th>\n",
       "      <th>East</th>\n",
       "      <th>West</th>\n",
       "    </tr>\n",
       "  </thead>\n",
       "  <tbody>\n",
       "    <tr>\n",
       "      <th>123</th>\n",
       "      <td>119700</td>\n",
       "      <td>1900</td>\n",
       "      <td>3</td>\n",
       "      <td>3</td>\n",
       "      <td>3</td>\n",
       "      <td>1</td>\n",
       "      <td>East</td>\n",
       "      <td>0</td>\n",
       "      <td>1</td>\n",
       "      <td>0</td>\n",
       "    </tr>\n",
       "    <tr>\n",
       "      <th>124</th>\n",
       "      <td>147900</td>\n",
       "      <td>2160</td>\n",
       "      <td>4</td>\n",
       "      <td>3</td>\n",
       "      <td>3</td>\n",
       "      <td>1</td>\n",
       "      <td>East</td>\n",
       "      <td>0</td>\n",
       "      <td>1</td>\n",
       "      <td>0</td>\n",
       "    </tr>\n",
       "    <tr>\n",
       "      <th>125</th>\n",
       "      <td>113500</td>\n",
       "      <td>2070</td>\n",
       "      <td>2</td>\n",
       "      <td>2</td>\n",
       "      <td>2</td>\n",
       "      <td>0</td>\n",
       "      <td>North</td>\n",
       "      <td>1</td>\n",
       "      <td>0</td>\n",
       "      <td>0</td>\n",
       "    </tr>\n",
       "    <tr>\n",
       "      <th>126</th>\n",
       "      <td>149900</td>\n",
       "      <td>2020</td>\n",
       "      <td>3</td>\n",
       "      <td>3</td>\n",
       "      <td>1</td>\n",
       "      <td>0</td>\n",
       "      <td>West</td>\n",
       "      <td>0</td>\n",
       "      <td>0</td>\n",
       "      <td>1</td>\n",
       "    </tr>\n",
       "    <tr>\n",
       "      <th>127</th>\n",
       "      <td>124600</td>\n",
       "      <td>2250</td>\n",
       "      <td>3</td>\n",
       "      <td>3</td>\n",
       "      <td>4</td>\n",
       "      <td>0</td>\n",
       "      <td>North</td>\n",
       "      <td>1</td>\n",
       "      <td>0</td>\n",
       "      <td>0</td>\n",
       "    </tr>\n",
       "  </tbody>\n",
       "</table>\n",
       "</div>"
      ],
      "text/plain": [
       "      Price  SqFt  Beds  Baths  Offers  Brick Neighborhood  North  East  West\n",
       "123  119700  1900     3      3       3      1         East      0     1     0\n",
       "124  147900  2160     4      3       3      1         East      0     1     0\n",
       "125  113500  2070     2      2       2      0        North      1     0     0\n",
       "126  149900  2020     3      3       1      0         West      0     0     1\n",
       "127  124600  2250     3      3       4      0        North      1     0     0"
      ]
     },
     "execution_count": 213,
     "metadata": {},
     "output_type": "execute_result"
    }
   ],
   "source": [
    "# zero houses are in the South neighborhood, so there will be no South column\n",
    "house_data['North'] = n_list\n",
    "house_data['East'] = e_list\n",
    "house_data['West'] = w_list\n",
    "house_data.tail()"
   ]
  },
  {
   "cell_type": "code",
   "execution_count": 234,
   "metadata": {},
   "outputs": [
    {
     "data": {
      "image/png": "[encoded data removed]",
      "text/plain": [
       "<matplotlib.figure.Figure at 0x1139e4cc0>"
      ]
     },
     "metadata": {},
     "output_type": "display_data"
    }
   ],
   "source": [
    "# construct seaborn heatmap to see correlations between attributes\n",
    "# set color scheme\n",
    "cmap = sns.diverging_palette(200, 20, sep=20, as_cmap=True)\n",
    "# set heatmap size\n",
    "fig, ax = plt.subplots(figsize=(11,7)) \n",
    "# set font size\n",
    "sns.set(font_scale=1.2)\n",
    "# generate a mask for the upper triangle\n",
    "mask = np.triu(np.ones_like(house_data.corr(), dtype=bool))\n",
    "# show heatmap\n",
    "sns.heatmap(house_data.corr(), mask=mask, annot=True, cmap=cmap, linewidths=.5, ax=ax)\n",
    "plt.show()"
   ]
  },
  {
   "cell_type": "code",
   "execution_count": 216,
   "metadata": {},
   "outputs": [
    {
     "name": "stdout",
     "output_type": "stream",
     "text": [
      "75.00% in training set\n",
      "25.00% in test set\n"
     ]
    }
   ],
   "source": [
    "# predict neighborhood based on attributes\n",
    "\n",
    "from sklearn.cross_validation import train_test_split\n",
    "\n",
    "# split data into 75% for training and 25% for testing\n",
    "feature_cols = ['Price','SqFt','Beds','Baths','Brick']\n",
    "predict_col = ['Neighborhood']\n",
    "x = house_data[feature_cols].values\n",
    "y = house_data[predict_col].values\n",
    "split_test_size = 0.25\n",
    "x_train, x_test, y_train, y_test = train_test_split(x, y, test_size=split_test_size, random_state=5)\n",
    "\n",
    "# verify that the data was split correctly\n",
    "print(\"{0:0.2f}% in training set\".format((len(x_train)/len(house_data.index)) * 100))\n",
    "print(\"{0:0.2f}% in test set\".format((len(x_test)/len(house_data.index)) * 100))"
   ]
  },
  {
   "cell_type": "code",
   "execution_count": 217,
   "metadata": {},
   "outputs": [
    {
     "name": "stdout",
     "output_type": "stream",
     "text": [
      "Original North: 44 (34.38%)\n",
      "Original East: 45 (35.16%)\n",
      "Original West: 39 (30.47%)\n",
      "\n",
      "Training North: 32 (33.33%)\n",
      "Training East: 35 (36.46%)\n",
      "Training West: 29 (30.21%)\n",
      "\n",
      "Test North: 12 (37.50%)\n",
      "Test East: 10 (31.25%)\n",
      "Test West: 10 (31.25%)\n"
     ]
    }
   ],
   "source": [
    "# verify that percent of homes in each neighborhood is the same for training and testing data\n",
    "print(\"Original North: {0} ({1:0.2f}%)\".format(len(house_data.loc[house_data['Neighborhood'] == \"North\"]), \n",
    "                                                (len(house_data.loc[house_data['Neighborhood'] == \"North\"])/\n",
    "                                                 len(house_data.index)) * 100.0))\n",
    "print(\"Original East: {0} ({1:0.2f}%)\".format(len(house_data.loc[house_data['Neighborhood'] == \"East\"]), \n",
    "                                                (len(house_data.loc[house_data['Neighborhood'] == \"East\"])/\n",
    "                                                 len(house_data.index)) * 100.0))\n",
    "print(\"Original West: {0} ({1:0.2f}%)\".format(len(house_data.loc[house_data['Neighborhood'] == \"West\"]), \n",
    "                                                (len(house_data.loc[house_data['Neighborhood'] == \"West\"])/\n",
    "                                                 len(house_data.index)) * 100.0))\n",
    "print(\"\")\n",
    "print(\"Training North: {0} ({1:0.2f}%)\".format(len(y_train[y_train[:] == \"North\"]), \n",
    "                                                (len(y_train[y_train[:] == \"North\"])/len(y_train) * 100.0)))\n",
    "print(\"Training East: {0} ({1:0.2f}%)\".format(len(y_train[y_train[:] == \"East\"]), \n",
    "                                                (len(y_train[y_train[:] == \"East\"])/len(y_train) * 100.0)))\n",
    "print(\"Training West: {0} ({1:0.2f}%)\".format(len(y_train[y_train[:] == \"West\"]), \n",
    "                                                (len(y_train[y_train[:] == \"West\"])/len(y_train) * 100.0)))\n",
    "print(\"\")\n",
    "print(\"Test North: {0} ({1:0.2f}%)\".format(len(y_test[y_test[:] == \"North\"]), \n",
    "                                                (len(y_test[y_test[:] == \"North\"])/len(y_test) * 100.0)))\n",
    "print(\"Test East: {0} ({1:0.2f}%)\".format(len(y_test[y_test[:] == \"East\"]), \n",
    "                                                (len(y_test[y_test[:] == \"East\"])/len(y_test) * 100.0)))\n",
    "print(\"Test West: {0} ({1:0.2f}%)\".format(len(y_test[y_test[:] == \"West\"]), \n",
    "                                                (len(y_test[y_test[:] == \"West\"])/len(y_test) * 100.0)))"
   ]
  },
  {
   "cell_type": "code",
   "execution_count": 218,
   "metadata": {},
   "outputs": [
    {
     "data": {
      "text/plain": [
       "GaussianNB(priors=None)"
      ]
     },
     "execution_count": 218,
     "metadata": {},
     "output_type": "execute_result"
    }
   ],
   "source": [
    "from sklearn.naive_bayes import GaussianNB\n",
    "\n",
    "# create Gaussian Naive Bayes model object and train it with the data\n",
    "nb_model = GaussianNB()\n",
    "nb_model.fit(x_train, y_train.ravel())"
   ]
  },
  {
   "cell_type": "code",
   "execution_count": 222,
   "metadata": {},
   "outputs": [
    {
     "name": "stdout",
     "output_type": "stream",
     "text": [
      "Accuracy: 0.6250\n"
     ]
    }
   ],
   "source": [
    "# predict values using the training data\n",
    "nb_predict_train = nb_model.predict(x_train)\n",
    "\n",
    "# import the performance metrics library\n",
    "from sklearn import metrics\n",
    "\n",
    "# measure accuracy\n",
    "print(\"Accuracy: {0:.4f}\".format(metrics.accuracy_score(y_train, nb_predict_train)))"
   ]
  },
  {
   "cell_type": "code",
   "execution_count": 221,
   "metadata": {},
   "outputs": [
    {
     "name": "stdout",
     "output_type": "stream",
     "text": [
      "Accuracy: 0.5625\n"
     ]
    }
   ],
   "source": [
    "# predict values using the testing data\n",
    "nb_predict_test = nb_model.predict(x_test)\n",
    "\n",
    "from sklearn import metrics\n",
    "\n",
    "# measure accuracy\n",
    "print(\"Accuracy: {0:.4f}\".format(metrics.accuracy_score(y_test, nb_predict_test)))"
   ]
  }
 ],
 "metadata": {
  "kernelspec": {
   "display_name": "Python 3",
   "language": "python",
   "name": "python3"
  },
  "language_info": {
   "codemirror_mode": {
    "name": "ipython",
    "version": 3
   },
   "file_extension": ".py",
   "mimetype": "text/x-python",
   "name": "python",
   "nbconvert_exporter": "python",
   "pygments_lexer": "ipython3",
   "version": "3.6.1"
  }
 },
 "nbformat": 4,
 "nbformat_minor": 2
}
